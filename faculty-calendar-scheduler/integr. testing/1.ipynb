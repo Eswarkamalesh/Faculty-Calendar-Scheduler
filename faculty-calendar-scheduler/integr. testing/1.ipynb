{
 "metadata": {
  "language_info": {
   "codemirror_mode": {
    "name": "ipython",
    "version": 3
   },
   "file_extension": ".py",
   "mimetype": "text/x-python",
   "name": "python",
   "nbconvert_exporter": "python",
   "pygments_lexer": "ipython3",
   "version": "3.7.4"
  },
  "orig_nbformat": 2,
  "kernelspec": {
   "name": "python374jvsc74a57bd0776e7c35012c6450a385135f748ac2dd3972817eb3f814059e88cb2238e03f73",
   "display_name": "Python 3.7.4 32-bit"
  },
  "metadata": {
   "interpreter": {
    "hash": "776e7c35012c6450a385135f748ac2dd3972817eb3f814059e88cb2238e03f73"
   }
  }
 },
 "nbformat": 4,
 "nbformat_minor": 2,
 "cells": [
  {
   "source": [
    "# Selenium"
   ],
   "cell_type": "markdown",
   "metadata": {}
  },
  {
   "cell_type": "code",
   "execution_count": null,
   "metadata": {},
   "outputs": [],
   "source": [
    "pip install selenium"
   ]
  },
  {
   "cell_type": "code",
   "execution_count": null,
   "metadata": {},
   "outputs": [],
   "source": [
    "import time\n",
    "from selenium import webdriver\n",
    "from selenium.webdriver.common.keys import Keys"
   ]
  },
  {
   "cell_type": "code",
   "execution_count": null,
   "metadata": {},
   "outputs": [],
   "source": [
    "driver = webdriver.Chrome(\"F:\\Software Engineering\\proj pic\\chromedriver_win32\\chromedriver.exe\")"
   ]
  },
  {
   "cell_type": "code",
   "execution_count": null,
   "metadata": {},
   "outputs": [],
   "source": [
    "driver.get(\"http://localhost:3000/home\")"
   ]
  },
  {
   "source": [
    "# Login Portion as Admin"
   ],
   "cell_type": "markdown",
   "metadata": {}
  },
  {
   "cell_type": "code",
   "execution_count": null,
   "metadata": {},
   "outputs": [],
   "source": [
    "driver.find_element_by_xpath(\"//header/nav[1]/div[1]/ul[1]/li[3]/a[1]\").click() # to check if the login putton page works"
   ]
  },
  {
   "cell_type": "code",
   "execution_count": null,
   "metadata": {},
   "outputs": [],
   "source": [
    "# driver.find_element_by_xpath(\"//header/nav[1]/div[1]/ul[1]/li[1]/a[1]\").click() # to check if the home button works in login page"
   ]
  },
  {
   "cell_type": "code",
   "execution_count": null,
   "metadata": {},
   "outputs": [],
   "source": [
    "driver.find_element_by_xpath(\"//body/div[1]/button[1]\").click() # login as admin button"
   ]
  },
  {
   "cell_type": "code",
   "execution_count": null,
   "metadata": {},
   "outputs": [],
   "source": [
    "driver.find_element_by_id(\"username\").send_keys(\"eswarkamalesh\")\n",
    "driver.find_element_by_id(\"password\").send_keys(\"eswarkamalesh\")\n",
    "driver.find_element_by_xpath(\"//button[contains(text(),'Login')]\").click() # to check if it's logging in"
   ]
  },
  {
   "source": [
    "# Dashboard"
   ],
   "cell_type": "markdown",
   "metadata": {}
  },
  {
   "cell_type": "code",
   "execution_count": null,
   "metadata": {},
   "outputs": [],
   "source": [
    "driver.find_element_by_xpath(\"//header/nav[1]/div[1]/ul[1]/li[3]\").click() # to check if Dashboard button works"
   ]
  },
  {
   "cell_type": "code",
   "execution_count": null,
   "metadata": {},
   "outputs": [],
   "source": [
    "# driver.find_element_by_xpath(\"//body/div[1]/ul[1]/li[1]/a[1]\").click() # to check if home button works in Dashboard page\n",
    "driver.find_element_by_xpath(\"//body/div[2]/nav[1]/div[1]/ul[1]/li[1]/a[1]\").click()"
   ]
  },
  {
   "source": [
    "# Add Event"
   ],
   "cell_type": "markdown",
   "metadata": {}
  },
  {
   "cell_type": "code",
   "execution_count": null,
   "metadata": {},
   "outputs": [],
   "source": [
    "driver.find_element_by_xpath(\"//i[contains(text(),'add')]\").click() # to check if add event works in Dashboard page"
   ]
  },
  {
   "cell_type": "code",
   "execution_count": null,
   "metadata": {},
   "outputs": [],
   "source": [
    "val = input(\"Enter your value: \")\n",
    "driver.find_element_by_id(\"eventVenueInput\").send_keys(val)\n",
    "driver.find_element_by_name(\"eventDescInput\").send_keys(\"lorem ipsum ooh lalala\")\n",
    "driver.find_element_by_xpath(\"//body/div[1]/form[1]/div[2]/div[1]/div[1]/div[1]/div[2]/div[1]/div[1]/input[1]\").click()\n",
    "driver.find_element_by_xpath(\"//span[contains(text(),'Exam Duty')]\").click()\n",
    "dateBox = driver.find_element_by_xpath(\"//input[@id='eventStarttimeInput']\")\n",
    "dateBox.send_keys(\"29072020\")\n",
    "dateBox.send_keys(Keys.TAB)\n",
    "dateBox.send_keys(\"1245\")\n",
    "dateBox2 = driver.find_element_by_xpath(\"//input[@id='eventEndTimeInput']\")\n",
    "dateBox2.send_keys(\"31072020\")\n",
    "dateBox2.send_keys(Keys.TAB)\n",
    "dateBox2.send_keys(\"1400\")\n",
    "driver.find_element_by_xpath(\"//button[@id='addEventButton']\").click() # to add new event in admin dashboard"
   ]
  },
  {
   "cell_type": "code",
   "execution_count": null,
   "metadata": {},
   "outputs": [],
   "source": [
    "driver.find_element_by_id(\"cancelAdd\").click() # to cancel the event made"
   ]
  },
  {
   "source": [
    "# Logout"
   ],
   "cell_type": "markdown",
   "metadata": {}
  },
  {
   "cell_type": "code",
   "execution_count": null,
   "metadata": {},
   "outputs": [],
   "source": [
    "driver.find_element_by_xpath(\"//header/nav[1]/div[1]/ul[1]/li[5]/a[1]\").click() # to logout "
   ]
  },
  {
   "source": [
    "# Forgot Password"
   ],
   "cell_type": "markdown",
   "metadata": {}
  },
  {
   "cell_type": "code",
   "execution_count": null,
   "metadata": {},
   "outputs": [],
   "source": [
    "driver.find_element_by_xpath(\"//a[contains(text(),'Forgot Password?')]\").click() # forgot password"
   ]
  },
  {
   "cell_type": "code",
   "execution_count": null,
   "metadata": {},
   "outputs": [],
   "source": [
    "driver.find_element_by_id(\"Email\").send_keys(\"eswarmuthu3@gmail.com\") # forgot password"
   ]
  },
  {
   "cell_type": "code",
   "execution_count": null,
   "metadata": {},
   "outputs": [],
   "source": [
    "driver.find_element_by_xpath(\"//button[contains(text(),'Submit')]\").click() # forgot password submit button"
   ]
  },
  {
   "cell_type": "code",
   "execution_count": null,
   "metadata": {},
   "outputs": [],
   "source": [
    "val = input(\"Enter your value: \")\n",
    "driver.find_element_by_id(\"verific_code\").send_keys(val)\n",
    "driver.find_element_by_xpath(\"//button[contains(text(),'Verify')]\").click() # verification for resetting password"
   ]
  },
  {
   "source": [
    "# Sign up Portion"
   ],
   "cell_type": "markdown",
   "metadata": {}
  },
  {
   "cell_type": "code",
   "execution_count": null,
   "metadata": {},
   "outputs": [],
   "source": [
    "driver.find_element_by_xpath(\"//a[contains(text(),'Sign Up')]\").click() # sign up link"
   ]
  },
  {
   "cell_type": "code",
   "execution_count": null,
   "metadata": {},
   "outputs": [],
   "source": [
    "driver.find_element_by_id(\"first_name\").send_keys(\"Esha\")\n",
    "driver.find_element_by_id(\"last_name\").send_keys(\"M\")\n",
    "time.sleep(3)\n",
    "driver.find_element_by_xpath(\"//body/div[1]/div[2]/div[1]/div[2]/form[1]/div[2]/div[1]/input[1]\").send_keys(\"Eshakamalesh\")\n",
    "driver.find_element_by_id(\"age\").send_keys(\"20\")\n",
    "driver.find_element_by_name(\"email_id\").send_keys(\"eswareswar@gmail.com\")\n",
    "driver.find_element_by_name(\"phone_no\").send_keys(\"9999966666\")\n",
    "driver.find_element_by_name(\"clg_name\").send_keys(\"Amrita Vishwa Vidyapeetham\")\n",
    "driver.find_element_by_name(\"state\").send_keys(\"Tamil Nadu\")\n",
    "driver.find_element_by_xpath(\"//body/div[1]/div[2]/div[1]/div[2]/form[1]/div[5]/div[1]/input[1]\").send_keys(\"abcde123#\")\n",
    "driver.find_element_by_xpath(\"//body/div[1]/div[2]/div[1]/div[2]/form[1]/div[5]/div[2]/div[1]/input[1]\").click()\n",
    "driver.find_element_by_xpath(\"//span[contains(text(),'Female')]\").click()\n",
    "# driver.find_element_by_xpath(\"//button[contains(text(),'Sign Up')]\").click() # Sign up page "
   ]
  },
  {
   "source": [
    "End of Admin Portion"
   ],
   "cell_type": "markdown",
   "metadata": {}
  },
  {
   "source": [
    "#"
   ],
   "cell_type": "markdown",
   "metadata": {}
  },
  {
   "source": [
    "# Login as Faculty"
   ],
   "cell_type": "markdown",
   "metadata": {}
  },
  {
   "cell_type": "code",
   "execution_count": null,
   "metadata": {},
   "outputs": [],
   "source": [
    "driver.find_element_by_xpath(\"//a[contains(text(),'Login as Faculty »')]\").click() # login as faculty"
   ]
  },
  {
   "cell_type": "code",
   "execution_count": null,
   "metadata": {},
   "outputs": [],
   "source": [
    "driver.find_element_by_id(\"username\").send_keys(\"srivathsan77\")\n",
    "driver.find_element_by_id(\"password\").send_keys(\"srivathsan77\")\n",
    "driver.find_element_by_xpath(\"//button[contains(text(),'Login')]\").click() # to check if it's logging in"
   ]
  },
  {
   "source": [
    "# Faculty Profile page"
   ],
   "cell_type": "markdown",
   "metadata": {}
  },
  {
   "cell_type": "code",
   "execution_count": null,
   "metadata": {},
   "outputs": [],
   "source": [
    "driver.find_element_by_xpath(\"/html[1]/body[1]/header[1]/nav[1]/div[1]/ul[1]/li[4]/a[1]\").click() # to check if the username button works in Navbar"
   ]
  },
  {
   "cell_type": "code",
   "execution_count": null,
   "metadata": {},
   "outputs": [],
   "source": [
    "driver.execute_script (\"window.scrollTo(0,document.body.scrollHeight);\") # to scrolldown the page"
   ]
  },
  {
   "cell_type": "code",
   "execution_count": null,
   "metadata": {},
   "outputs": [],
   "source": [
    "driver.find_element_by_xpath(\"//i[contains(text(),'edit')]\").click()"
   ]
  },
  {
   "cell_type": "code",
   "execution_count": null,
   "metadata": {},
   "outputs": [],
   "source": [
    "driver.find_element_by_id(\"college\").send_keys(\"Amrita Vishwa Vidyapeetham\")"
   ]
  },
  {
   "cell_type": "code",
   "execution_count": null,
   "metadata": {},
   "outputs": [],
   "source": [
    "driver.find_element_by_xpath(\"//a[contains(text(),'save')]\").click() # to save the changes"
   ]
  },
  {
   "cell_type": "code",
   "execution_count": null,
   "metadata": {},
   "outputs": [],
   "source": []
  },
  {
   "source": [
    "# Faculty Dashboard"
   ],
   "cell_type": "markdown",
   "metadata": {}
  },
  {
   "cell_type": "code",
   "execution_count": null,
   "metadata": {},
   "outputs": [],
   "source": [
    "driver.find_element_by_xpath(\"/html[1]/body[1]/header[1]/nav[1]/div[1]/ul[1]/li[3]/a[1]\").click() # to check if Dashboard button works"
   ]
  },
  {
   "source": [
    "# Edit Profile"
   ],
   "cell_type": "markdown",
   "metadata": {}
  },
  {
   "cell_type": "code",
   "execution_count": null,
   "metadata": {},
   "outputs": [],
   "source": [
    "driver.find_element_by_xpath(\"//body/div[4]/div[1]/div[1]/div[1]/div[1]/a[1]/i[1]\").click() # to check edit profile works from the dashboard page"
   ]
  },
  {
   "cell_type": "code",
   "execution_count": null,
   "metadata": {},
   "outputs": [],
   "source": [
    "driver.execute_script (\"window.scrollTo(0,document.body.scrollHeight);\") # to scrolldown the page\n",
    "time.sleep(2)\n",
    "driver.find_element_by_xpath(\"//i[contains(text(),'edit')]\").click()\n",
    "time.sleep(2)\n",
    "driver.find_element_by_id(\"college\").send_keys(\"Amrita Vishwa Vidyapeetham\")\n",
    "time.sleep(2)\n",
    "driver.find_element_by_xpath(\"//a[contains(text(),'save')]\").click() # to save the changes"
   ]
  },
  {
   "source": [
    "# Add Timetable"
   ],
   "cell_type": "markdown",
   "metadata": {}
  },
  {
   "cell_type": "code",
   "execution_count": null,
   "metadata": {},
   "outputs": [],
   "source": [
    "driver.find_element_by_xpath(\"//body/div[4]/div[1]/div[2]/div[1]/div[1]/a[1]/i[1]\").click() # to check the working of Add Timetable button"
   ]
  },
  {
   "source": [
    "count value is not updating"
   ],
   "cell_type": "markdown",
   "metadata": {}
  },
  {
   "cell_type": "code",
   "execution_count": null,
   "metadata": {},
   "outputs": [],
   "source": [
    "driver.find_element_by_xpath(\"//body/div[1]/div[1]/div[1]/form[1]/div[1]/div[1]/input[1]\").click()\n",
    "time.sleep(3)\n",
    "driver.find_element_by_xpath(\"//span[contains(text(),'5')]\").click() # value #5\n",
    "time.sleep(3)\n",
    "driver.find_element_by_id(\"start1\").click()\n",
    "time.sleep(3)\n",
    "driver.find_element_by_xpath(\"//body/div[1]/div[1]/form[1]/div[1]/div[2]/div[2]/div[1]/div[1]/div[2]/div[1]/div[2]/div[9]\").click()\n",
    "time.sleep(2)\n",
    "driver.find_element_by_xpath(\"//body/div[1]/div[1]/form[1]/div[1]/div[2]/div[2]/div[1]/div[1]/div[2]/div[1]/div[3]/div[7]\").click()\n",
    "time.sleep(2)\n",
    "driver.find_element_by_xpath(\"//body/div[1]/div[1]/form[1]/div[1]/div[2]/div[2]/div[1]/div[1]/div[1]/div[1]/div[2]/div[1]/div[1]\").click()\n",
    "time.sleep(2)\n",
    "driver.find_element_by_xpath(\"//body/div[1]/div[1]/form[1]/div[1]/div[2]/div[2]/div[1]/div[1]/div[2]/div[2]/div[1]/button[2]\").click()\n",
    "time.sleep(2)\n",
    "driver.find_element_by_id(\"end1\").click()\n",
    "time.sleep(3)\n",
    "driver.find_element_by_xpath(\"//body/div[1]/div[1]/form[1]/div[1]/div[2]/div[3]/div[1]/div[1]/div[2]/div[1]/div[2]/div[10]\").click()\n",
    "time.sleep(2)\n",
    "driver.find_element_by_xpath(\"/html[1]/body[1]/div[1]/div[1]/form[1]/div[1]/div[2]/div[3]/div[1]/div[1]/div[2]/div[1]/div[3]/div[1]\").click()\n",
    "time.sleep(2)\n",
    "driver.find_element_by_xpath(\"//body/div[1]/div[1]/form[1]/div[1]/div[2]/div[3]/div[1]/div[1]/div[1]/div[1]/div[2]/div[1]/div[1]\").click()\n",
    "time.sleep(2)\n",
    "driver.find_element_by_xpath(\"//body/div[1]/div[1]/form[1]/div[1]/div[2]/div[3]/div[1]/div[1]/div[2]/div[2]/div[1]/button[2]\").click()\n",
    "time.sleep(2)\n",
    "driver.find_element_by_id(\"start2\").click()\n",
    "time.sleep(3)\n",
    "driver.find_element_by_xpath(\"//body/div[1]/div[1]/form[1]/div[1]/div[3]/div[2]/div[1]/div[1]/div[2]/div[1]/div[2]/div[10]\").click()\n",
    "time.sleep(2)\n",
    "driver.find_element_by_xpath(\"//body/div[1]/div[1]/form[1]/div[1]/div[3]/div[2]/div[1]/div[1]/div[2]/div[1]/div[3]/div[1]\").click()\n",
    "time.sleep(2)\n",
    "driver.find_element_by_xpath(\"//body/div[1]/div[1]/form[1]/div[1]/div[3]/div[2]/div[1]/div[1]/div[1]/div[1]/div[2]/div[1]/div[1]\").click()\n",
    "time.sleep(2)\n",
    "driver.find_element_by_xpath(\"//body/div[1]/div[1]/form[1]/div[1]/div[3]/div[2]/div[1]/div[1]/div[2]/div[2]/div[1]/button[2]\").click()\n",
    "time.sleep(2)\n",
    "driver.find_element_by_id(\"end2\").click()\n",
    "time.sleep(3)\n",
    "driver.find_element_by_xpath(\"//body/div[1]/div[1]/form[1]/div[1]/div[3]/div[3]/div[1]/div[1]/div[2]/div[1]/div[2]/div[10]\").click()\n",
    "time.sleep(2)\n",
    "driver.find_element_by_xpath(\"//body/div[1]/div[1]/form[1]/div[1]/div[3]/div[3]/div[1]/div[1]/div[2]/div[1]/div[3]/div[7]\").click()\n",
    "time.sleep(2)\n",
    "driver.find_element_by_xpath(\"//body/div[1]/div[1]/form[1]/div[1]/div[3]/div[3]/div[1]/div[1]/div[1]/div[1]/div[2]/div[1]/div[1]\").click()\n",
    "time.sleep(2)\n",
    "driver.find_element_by_xpath(\"//body/div[1]/div[1]/form[1]/div[1]/div[3]/div[3]/div[1]/div[1]/div[2]/div[2]/div[1]/button[2]\").click()\n",
    "time.sleep(2)\n",
    "driver.find_element_by_id(\"start3\").click()\n",
    "time.sleep(3)\n",
    "driver.find_element_by_xpath(\"//body/div[1]/div[1]/form[1]/div[1]/div[4]/div[2]/div[1]/div[1]/div[2]/div[1]/div[2]/div[10]\").click()\n",
    "time.sleep(2)\n",
    "driver.find_element_by_xpath(\"//body/div[1]/div[1]/form[1]/div[1]/div[4]/div[2]/div[1]/div[1]/div[2]/div[1]/div[3]/div[7]\").click()\n",
    "time.sleep(2)\n",
    "driver.find_element_by_xpath(\"//body/div[1]/div[1]/form[1]/div[1]/div[4]/div[2]/div[1]/div[1]/div[1]/div[1]/div[2]/div[1]/div[1]\").click()\n",
    "time.sleep(2)\n",
    "driver.find_element_by_xpath(\"//body/div[1]/div[1]/form[1]/div[1]/div[4]/div[2]/div[1]/div[1]/div[2]/div[2]/div[1]/button[2]\").click()\n",
    "time.sleep(2)\n",
    "driver.find_element_by_id(\"end3\").click()\n",
    "time.sleep(3)\n",
    "driver.find_element_by_xpath(\"//body/div[1]/div[1]/form[1]/div[1]/div[4]/div[3]/div[1]/div[1]/div[2]/div[1]/div[2]/div[11]\").click()\n",
    "time.sleep(2)\n",
    "driver.find_element_by_xpath(\"//body/div[1]/div[1]/form[1]/div[1]/div[4]/div[3]/div[1]/div[1]/div[2]/div[1]/div[3]/div[1]\").click()\n",
    "time.sleep(2)\n",
    "driver.find_element_by_xpath(\"//body/div[1]/div[1]/form[1]/div[1]/div[4]/div[3]/div[1]/div[1]/div[1]/div[1]/div[2]/div[1]/div[1]\").click()\n",
    "time.sleep(2)\n",
    "driver.find_element_by_xpath(\"//body/div[1]/div[1]/form[1]/div[1]/div[4]/div[3]/div[1]/div[1]/div[2]/div[2]/div[1]/button[2]\").click()\n",
    "time.sleep(2)\n",
    "driver.find_element_by_id(\"start4\").click()\n",
    "time.sleep(3)\n",
    "driver.find_element_by_xpath(\"//body/div[1]/div[1]/form[1]/div[1]/div[5]/div[2]/div[1]/div[1]/div[2]/div[1]/div[2]/div[11]\").click()\n",
    "time.sleep(2)\n",
    "driver.find_element_by_xpath(\"//body/div[1]/div[1]/form[1]/div[1]/div[5]/div[2]/div[1]/div[1]/div[2]/div[1]/div[3]/div[1]\").click()\n",
    "time.sleep(2)\n",
    "driver.find_element_by_xpath(\"//body/div[1]/div[1]/form[1]/div[1]/div[5]/div[2]/div[1]/div[1]/div[1]/div[1]/div[2]/div[1]/div[1]\").click()\n",
    "time.sleep(2)\n",
    "driver.find_element_by_xpath(\"//body/div[1]/div[1]/form[1]/div[1]/div[5]/div[2]/div[1]/div[1]/div[2]/div[2]/div[1]/button[2]\").click()\n",
    "time.sleep(2)\n",
    "driver.find_element_by_id(\"end4\").click()\n",
    "time.sleep(3)\n",
    "driver.find_element_by_xpath(\"//body/div[1]/div[1]/form[1]/div[1]/div[5]/div[3]/div[1]/div[1]/div[2]/div[1]/div[2]/div[11]\").click()\n",
    "time.sleep(2)\n",
    "driver.find_element_by_xpath(\"//body/div[1]/div[1]/form[1]/div[1]/div[5]/div[3]/div[1]/div[1]/div[2]/div[1]/div[3]/div[7]\").click()\n",
    "time.sleep(2)\n",
    "driver.find_element_by_xpath(\"//body/div[1]/div[1]/form[1]/div[1]/div[5]/div[3]/div[1]/div[1]/div[1]/div[1]/div[2]/div[1]/div[1]\").click()\n",
    "time.sleep(2)\n",
    "driver.find_element_by_xpath(\"//body/div[1]/div[1]/form[1]/div[1]/div[5]/div[3]/div[1]/div[1]/div[2]/div[2]/div[1]/button[2]\").click()\n",
    "time.sleep(2)\n",
    "driver.find_element_by_id(\"start5\").click()\n",
    "time.sleep(3)\n",
    "driver.find_element_by_xpath(\"//body/div[1]/div[1]/form[1]/div[1]/div[6]/div[2]/div[1]/div[1]/div[2]/div[1]/div[2]/div[11]\").click()\n",
    "time.sleep(2)\n",
    "driver.find_element_by_xpath(\"//body/div[1]/div[1]/form[1]/div[1]/div[6]/div[2]/div[1]/div[1]/div[2]/div[1]/div[3]/div[7]\").click()\n",
    "time.sleep(2)\n",
    "driver.find_element_by_xpath(\"//body/div[1]/div[1]/form[1]/div[1]/div[6]/div[2]/div[1]/div[1]/div[1]/div[1]/div[2]/div[1]/div[1]\").click()\n",
    "time.sleep(2)\n",
    "driver.find_element_by_xpath(\"//body/div[1]/div[1]/form[1]/div[1]/div[6]/div[2]/div[1]/div[1]/div[2]/div[2]/div[1]/button[2]\").click()\n",
    "time.sleep(2)\n",
    "driver.find_element_by_id(\"end5\").click()\n",
    "time.sleep(3)\n",
    "driver.find_element_by_xpath(\"//body/div[1]/div[1]/form[1]/div[1]/div[6]/div[3]/div[1]/div[1]/div[2]/div[1]/div[2]/div[12]\").click()\n",
    "time.sleep(2)\n",
    "driver.find_element_by_xpath(\"//body/div[1]/div[1]/form[1]/div[1]/div[6]/div[3]/div[1]/div[1]/div[2]/div[1]/div[3]/div[1]\").click()\n",
    "time.sleep(2)\n",
    "driver.find_element_by_xpath(\"//body/div[1]/div[1]/form[1]/div[1]/div[6]/div[3]/div[1]/div[1]/div[2]/div[2]/div[1]/button[2]\").click()\n",
    "# details to fill the timetable page"
   ]
  },
  {
   "cell_type": "code",
   "execution_count": null,
   "metadata": {},
   "outputs": [],
   "source": [
    "driver.find_element_by_xpath(\"//button[contains(text(),'Submit')]\").click() # to submit the timetable"
   ]
  },
  {
   "cell_type": "code",
   "execution_count": null,
   "metadata": {},
   "outputs": [],
   "source": [
    "driver.find_element_by_xpath(\"/html[1]/body[1]/header[1]/nav[1]/div[1]/ul[1]/li[3]/a[1]\").click() # navigate to Dashboard"
   ]
  },
  {
   "source": [
    "# Faculty Add Event"
   ],
   "cell_type": "markdown",
   "metadata": {}
  },
  {
   "cell_type": "code",
   "execution_count": null,
   "metadata": {},
   "outputs": [],
   "source": [
    "driver.find_element_by_xpath(\"//i[contains(text(),'add')]\").click() # to add event"
   ]
  },
  {
   "cell_type": "code",
   "execution_count": null,
   "metadata": {},
   "outputs": [],
   "source": [
    "driver.find_element_by_xpath(\"//i[contains(text(),'keyboard_arrow_right')]\").click() # to navigate right to july month\n",
    "time.sleep(2)\n",
    "driver.find_element_by_xpath(\"//div[contains(text(),'29')]\").click() # to click the date 29\n",
    "time.sleep(2)\n",
    "driver.execute_script (\"window.scrollTo(0,document.body.scrollHeight);\") # to scrolldown the page\n",
    "time.sleep(2)\n",
    "driver.find_element_by_id(\"changeFormButton\").click() # to add new event\n"
   ]
  },
  {
   "cell_type": "code",
   "execution_count": null,
   "metadata": {},
   "outputs": [],
   "source": [
    "val = input(\"Enter your value: \")\n",
    "driver.find_element_by_id(\"eventVenueInput\").send_keys(val)\n",
    "driver.find_element_by_name(\"eventDescInput\").send_keys(\"lorem ipsum ooh lalala\")\n",
    "dateBox = driver.find_element_by_xpath(\"//input[@id='eventStarttimeInput']\")\n",
    "dateBox.send_keys(\"29072020\")\n",
    "dateBox.send_keys(Keys.TAB)\n",
    "dateBox.send_keys(\"1245\")\n",
    "dateBox2 = driver.find_element_by_xpath(\"//input[@id='eventEndTimeInput']\")\n",
    "dateBox2.send_keys(\"31072020\")\n",
    "dateBox2.send_keys(Keys.TAB)\n",
    "dateBox2.send_keys(\"1400\")\n",
    "driver.find_element_by_xpath(\"//button[@id='addEventButton']\").click() # to add new event in admin dashboard"
   ]
  },
  {
   "source": [
    "# View Timetable"
   ],
   "cell_type": "markdown",
   "metadata": {}
  },
  {
   "cell_type": "code",
   "execution_count": null,
   "metadata": {},
   "outputs": [],
   "source": [
    "driver.execute_script (\"window.scrollTo(0,document.body.scrollHeight);\") # to scrolldown the page\n",
    "time.sleep(2)\n",
    "driver.find_element_by_xpath(\"//body/div[4]/div[2]/div[1]/div[1]/div[1]/a[1]/i[1]\").click() # to view the timetable"
   ]
  },
  {
   "cell_type": "code",
   "execution_count": null,
   "metadata": {},
   "outputs": [],
   "source": [
    "driver.find_element_by_xpath(\"/html[1]/body[1]/header[1]/nav[1]/div[1]/ul[1]/li[3]/a[1]\").click() # navigate to Dashboard"
   ]
  },
  {
   "source": [
    "# Display Faculty Events"
   ],
   "cell_type": "markdown",
   "metadata": {}
  },
  {
   "cell_type": "code",
   "execution_count": null,
   "metadata": {},
   "outputs": [],
   "source": [
    "driver.execute_script (\"window.scrollTo(0,document.body.scrollHeight);\") # to scrolldown the page\n",
    "time.sleep(2)\n",
    "driver.find_element_by_xpath(\"//i[contains(text(),'event')]\").click() # to display the events for a range of dates"
   ]
  },
  {
   "source": [
    "input is for range of dates but the output is range of time"
   ],
   "cell_type": "markdown",
   "metadata": {}
  },
  {
   "cell_type": "code",
   "execution_count": null,
   "metadata": {},
   "outputs": [],
   "source": [
    "driver.find_element_by_xpath(\"//body/div[1]/div[1]/form[1]/div[1]/div[1]/div[1]/input[1]\").click()\n",
    "time.sleep(1)\n",
    "driver.find_element_by_xpath(\"//span[contains(text(),'Faculty Meeting')]\").click()\n",
    "driver.find_element_by_id(\"start_time\").send_keys(\"29072021\")\n",
    "driver.find_element_by_id(\"end_time\").send_keys(\"29092021\")\n",
    "driver.find_element_by_xpath(\"//body/div[1]/div[1]/form[1]/div[4]/div[1]/button[1]\").click()"
   ]
  },
  {
   "cell_type": "code",
   "execution_count": null,
   "metadata": {},
   "outputs": [],
   "source": [
    "driver.find_element_by_xpath(\"//header/nav[1]/div[1]/ul[1]/li[5]/a[1]\").click() # to logout "
   ]
  },
  {
   "source": [
    "# Forget Password"
   ],
   "cell_type": "markdown",
   "metadata": {}
  },
  {
   "cell_type": "code",
   "execution_count": null,
   "metadata": {},
   "outputs": [],
   "source": [
    "driver.find_element_by_xpath(\"//a[contains(text(),'Forgot Password?')]\").click() # forgot password"
   ]
  },
  {
   "cell_type": "code",
   "execution_count": null,
   "metadata": {},
   "outputs": [],
   "source": [
    "driver.find_element_by_id(\"Email\").send_keys(\"eswarmuthu3@gmail.com\") # forgot password"
   ]
  },
  {
   "cell_type": "code",
   "execution_count": null,
   "metadata": {},
   "outputs": [],
   "source": [
    "driver.find_element_by_xpath(\"//button[contains(text(),'Submit')]\").click() # forgot password submit button"
   ]
  },
  {
   "source": [
    "# Faculty Signup"
   ],
   "cell_type": "markdown",
   "metadata": {}
  },
  {
   "cell_type": "code",
   "execution_count": null,
   "metadata": {},
   "outputs": [],
   "source": [
    "driver.find_element_by_xpath(\"//a[contains(text(),'Sign Up')]\").click() # sign up link"
   ]
  },
  {
   "cell_type": "code",
   "execution_count": null,
   "metadata": {},
   "outputs": [],
   "source": [
    "driver.find_element_by_id(\"first_name\").send_keys(\"Eswar\")\n",
    "driver.find_element_by_id(\"last_name\").send_keys(\"M\")\n",
    "driver.find_element_by_xpath(\"//body/div[1]/div[2]/div[1]/div[2]/form[1]/div[2]/div[1]/input[1]\").send_keys(\"eswar kamalesh\")\n",
    "driver.find_element_by_id(\"age\").send_keys(\"20\")\n",
    "driver.find_element_by_name(\"email_id\").send_keys(\"eswarmuthu@gmail.com\")\n",
    "driver.find_element_by_name(\"phone_no\").send_keys(\"9999944666\")\n",
    "driver.find_element_by_name(\"clg_name\").send_keys(\"Amrita Vishwa Vidyapeetham\")\n",
    "driver.find_element_by_name(\"state\").send_keys(\"Tamil Nadu\")\n",
    "driver.find_element_by_xpath(\"//body/div[1]/div[2]/div[1]/div[2]/form[1]/div[5]/div[1]/input[1]\").send_keys(\"abcde123#\")\n",
    "driver.find_element_by_xpath(\"//body/div[1]/div[2]/div[1]/div[2]/form[1]/div[5]/div[2]/div[1]/input[1]\").click()\n",
    "driver.find_element_by_xpath(\"//span[contains(text(),'Female')]\").click()\n",
    "driver.find_element_by_name(\"room_id\").send_keys(\"118\")\n",
    "driver.find_element_by_xpath(\"//button[contains(text(),'Sign Up')]\").click() # Sign up page "
   ]
  },
  {
   "source": [
    "# Working of Footer"
   ],
   "cell_type": "markdown",
   "metadata": {}
  },
  {
   "cell_type": "code",
   "execution_count": null,
   "metadata": {},
   "outputs": [],
   "source": [
    "driver.find_element_by_xpath(\"//a[contains(text(),'Facebook')]\").click()\n",
    "driver.find_element_by_xpath(\"//a[contains(text(),'Twitter')]\").click()\n",
    "driver.find_element_by_xpath(\"//a[contains(text(),'Linked In')]\").click()\n",
    "driver.find_element_by_xpath(\"//a[contais(text(),'Instagram')]\").click() # working of connect"
   ]
  }
 ]
}